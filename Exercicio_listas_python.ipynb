{
  "nbformat": 4,
  "nbformat_minor": 0,
  "metadata": {
    "colab": {
      "name": "Exercicio_listas_python.ipynb",
      "provenance": [],
      "authorship_tag": "ABX9TyPd7eEoCl9gGySDXsJKzaIN"
    },
    "kernelspec": {
      "name": "python3",
      "display_name": "Python 3"
    },
    "language_info": {
      "name": "python"
    }
  },
  "cells": [
    {
      "cell_type": "markdown",
      "metadata": {
        "id": "3TkwDrSr-WzG"
      },
      "source": [
        "#exercício 16\n"
      ]
    },
    {
      "cell_type": "code",
      "metadata": {
        "colab": {
          "base_uri": "https://localhost:8080/"
        },
        "id": "U8Y0xMjn-gKG",
        "outputId": "90bc5668-01c5-4933-d3d4-e376b4e60054"
      },
      "source": [
        "produtos = list()\n",
        "precos = list()\n",
        "contador_menor_50 = 0\n",
        "nome_produtos = list()\n",
        "maior_100 = 0\n",
        "contador_maior_100 = 0\n",
        "\n",
        "for indice in range(0, 5):\n",
        "    nome = str(input('Digite o nome do produto: '))\n",
        "    valor = float(input('Digite o preço (R$) do produto: '))\n",
        "    produtos.append(nome)\n",
        "    precos.append(valor)\n",
        "\n",
        "for indice in range(0, 5):\n",
        "    if precos[indice] < 50:\n",
        "        contador_menor_50 += 1\n",
        "    elif precos[indice] <= 100:\n",
        "        nome_produtos.append(produtos[indice])\n",
        "    else:\n",
        "        maior_100 += precos[indice]\n",
        "        contador_maior_100 += 1\n",
        "\n",
        "print('Na lista temos:')\n",
        "print(f'- {contador_menor_50} produtos com preço menor que R$50,00')\n",
        "print(f'- Os produtos com preço entre R$50,00 e R$100,00 são: {nome_produtos}')\n",
        "print(f'- E a média dos preços dos produtos maiores que R$100,00 é R${maior_100/contador_maior_100:.2f}')"
      ],
      "execution_count": 9,
      "outputs": [
        {
          "output_type": "stream",
          "text": [
            "Digite o nome do produto: Arroz\n",
            "Digite o preço (R$) do produto: 25\n",
            "Digite o nome do produto: Celular\n",
            "Digite o preço (R$) do produto: 752\n",
            "Digite o nome do produto: Carne\n",
            "Digite o preço (R$) do produto: 85\n",
            "Digite o nome do produto: Cerveja\n",
            "Digite o preço (R$) do produto: 95\n",
            "Digite o nome do produto: tequila\n",
            "Digite o preço (R$) do produto: 115\n",
            "Na lista temos:\n",
            "- 1 produtos com preço menor que R$50,00\n",
            "- Os produtos com preço entre R$50,00 e R$100,00 são: ['Carne', 'Cerveja']\n",
            "- E a média dos preços dos produtos maiores que R$100,00 é 433.5\n"
          ],
          "name": "stdout"
        }
      ]
    },
    {
      "cell_type": "markdown",
      "metadata": {
        "id": "3CEO7pB27rde"
      },
      "source": [
        "#exercício 18"
      ]
    },
    {
      "cell_type": "code",
      "metadata": {
        "colab": {
          "base_uri": "https://localhost:8080/"
        },
        "id": "XsB6Oc7T5w9I",
        "outputId": "5687e764-a5b9-457e-fd2c-82420c6e9b15"
      },
      "source": [
        "vetor_15 = list()\n",
        "maior = 0\n",
        "menor = 1000000\n",
        "for indice in range(0, 15, 1):\n",
        "    numero = int(input('Digite um número: '))\n",
        "    vetor_15.append(numero)\n",
        "    if maior < numero:\n",
        "        maior = numero\n",
        "        posicao_maior = indice\n",
        "    if menor > numero:\n",
        "        menor = numero\n",
        "        posicao_menor = indice\n",
        "\n",
        "print(f'O maior elemento do vetor é {maior} e esta na posição {posicao_maior}')\n",
        "print(f'O menor elemento do vetor é {menor} e esta na posição {posicao_menor}')"
      ],
      "execution_count": 3,
      "outputs": [
        {
          "output_type": "stream",
          "text": [
            "Digite um número: 1\n",
            "Digite um número: 2\n",
            "Digite um número: 3\n",
            "Digite um número: 4\n",
            "Digite um número: 5\n",
            "O maior elemento do vetor é 5 e esta na posição 4\n",
            "O menor elemento do vetor é 1 e esta na posição 0\n"
          ],
          "name": "stdout"
        }
      ]
    },
    {
      "cell_type": "markdown",
      "metadata": {
        "id": "xE8Y4JZAB3vi"
      },
      "source": [
        "#exercício 19"
      ]
    },
    {
      "cell_type": "code",
      "metadata": {
        "colab": {
          "base_uri": "https://localhost:8080/"
        },
        "id": "oJDdsXMaB6tW",
        "outputId": "e09c0e09-bded-4305-a204-6a1d8ae5362a"
      },
      "source": [
        "vetor_a = list()\n",
        "vetor_b = list()\n",
        "vetor_c = list()\n",
        "\n",
        "for indice in range(0, 10, 1):\n",
        "    numero = int(input('Digite um número para o vetor A: '))\n",
        "    vetor_a.append(numero)\n",
        "\n",
        "for indice in range(0, 10, 1):\n",
        "    numero = int(input('Digite um número para o vetor B: '))\n",
        "    vetor_b.append(numero)\n",
        "\n",
        "for indice in range(0, 10, 1):\n",
        "    numero = vetor_a[indice]*vetor_b[indice]\n",
        "    vetor_c.append(numero)\n",
        "\n",
        "print(f'A multiplicação dos vetores A e B é: {vetor_c}')"
      ],
      "execution_count": 11,
      "outputs": [
        {
          "output_type": "stream",
          "text": [
            "Digite um número: 5\n",
            "Digite um número: 15\n",
            "Digite um número: 25\n",
            "Digite um número: 5\n",
            "Digite um número: 3\n",
            "Digite um número: 4\n",
            "[25, 45, 100]\n"
          ],
          "name": "stdout"
        }
      ]
    },
    {
      "cell_type": "markdown",
      "metadata": {
        "id": "dsLDZG8c7zPg"
      },
      "source": [
        "#exercício 20"
      ]
    },
    {
      "cell_type": "code",
      "metadata": {
        "colab": {
          "base_uri": "https://localhost:8080/"
        },
        "id": "vQ_cEit57yQM",
        "outputId": "e2301f9a-8d96-4a59-c92e-9d9baebb4be5"
      },
      "source": [
        "vetor_50 = list()\n",
        "for indice in range(0, 50, 1):\n",
        "    numero = int(input('Digite um número: '))\n",
        "    vetor_50.append(numero)\n",
        "\n",
        "for numero in vetor_50:\n",
        "    if numero > 0:\n",
        "        print(numero)"
      ],
      "execution_count": 6,
      "outputs": [
        {
          "output_type": "stream",
          "text": [
            "Digite um número: 5\n",
            "Digite um número: 9\n",
            "Digite um número: -1\n",
            "Digite um número: -7\n",
            "Digite um número: 0\n",
            "5\n",
            "9\n"
          ],
          "name": "stdout"
        }
      ]
    },
    {
      "cell_type": "markdown",
      "metadata": {
        "id": "s5SrLogA8njv"
      },
      "source": [
        "#exercício 25"
      ]
    },
    {
      "cell_type": "code",
      "metadata": {
        "colab": {
          "base_uri": "https://localhost:8080/"
        },
        "id": "I-9Uusi985PC",
        "outputId": "fe925602-c800-4ca6-eeb2-e1a06c82c1be"
      },
      "source": [
        "vetor_15 = list()\n",
        "vetor_15_dividido = list()\n",
        "maior = 0\n",
        "for indice in range(0, 15, 1):\n",
        "    numero = int(input('Digite um número: '))\n",
        "    vetor_15.append(numero)\n",
        "    if maior < numero:\n",
        "        maior = numero\n",
        "\n",
        "for numero in vetor_15:\n",
        "    vetor_15_dividido.append(numero/maior)\n",
        "\n",
        "print(vetor_15_dividido)"
      ],
      "execution_count": 8,
      "outputs": [
        {
          "output_type": "stream",
          "text": [
            "Digite um número: 5\n",
            "Digite um número: 4\n",
            "Digite um número: 7\n",
            "Digite um número: 6\n",
            "Digite um número: 1\n",
            "[0.7142857142857143, 0.5714285714285714, 1.0, 0.8571428571428571, 0.14285714285714285]\n"
          ],
          "name": "stdout"
        }
      ]
    },
    {
      "cell_type": "code",
      "metadata": {
        "id": "GPzKoOPw-NbB"
      },
      "source": [
        ""
      ],
      "execution_count": null,
      "outputs": []
    }
  ]
}