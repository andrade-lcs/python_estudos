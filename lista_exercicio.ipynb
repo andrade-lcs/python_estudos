{
  "nbformat": 4,
  "nbformat_minor": 0,
  "metadata": {
    "colab": {
      "name": "lista_exercicio.ipynb",
      "provenance": [],
      "authorship_tag": "ABX9TyNQ/CN+ULPvPX3VvLkzPHUG"
    },
    "kernelspec": {
      "name": "python3",
      "display_name": "Python 3"
    },
    "language_info": {
      "name": "python"
    }
  },
  "cells": [
    {
      "cell_type": "code",
      "metadata": {
        "colab": {
          "base_uri": "https://localhost:8080/"
        },
        "id": "Z7Th06cIK0Xk",
        "outputId": "7c4110eb-56b7-4bb5-eb53-8e29bbd2541a"
      },
      "source": [
        "morango = float(input('Digite quantos quilos de Morango: '))\n",
        "maca =  float(input('Digite quantos quilos de Maça: '))\n",
        "preco = 0\n",
        "if morango >=5:\n",
        "    preco += morango*2.20\n",
        "else:\n",
        "    preco += morango*2.50\n",
        "if maca >= 5:\n",
        "    preco += maca*1.5\n",
        "else:\n",
        "    preco += maca*1.8\n",
        "if morango+maca >= 8 or preco >= 25:\n",
        "    preco = preco*0.9\n",
        "print(f'O valor total a ser pago é R${preco:.2f}')"
      ],
      "execution_count": 6,
      "outputs": [
        {
          "output_type": "stream",
          "text": [
            "Digite quantos quilos de Morango: 5.5\n",
            "Digite quantos quilos de Maça: 5.5\n",
            "O valor total a ser pago é R$18.32\n"
          ],
          "name": "stdout"
        }
      ]
    },
    {
      "cell_type": "code",
      "metadata": {
        "colab": {
          "base_uri": "https://localhost:8080/"
        },
        "id": "aRh1DU9XMaf1",
        "outputId": "1809bcf0-eab5-4236-9d02-b0e562a9aa15"
      },
      "source": [
        "lista_nomes = list()\n",
        "for indice in range(0, 10):\n",
        "    nome = input('Digite um nome:')\n",
        "    lista_nomes.append(nome)\n",
        "name = input('Digite outro nome:')\n",
        "for nome_lista in lista_nomes:\n",
        "    print(nome_lista, name)\n",
        "    if nome_lista == name:\n",
        "        achei = True\n",
        "        break\n",
        "    else:\n",
        "        achei = False\n",
        "if achei == True:\n",
        "    print('ACHEI')\n",
        "else:\n",
        "    print('NÃO ACHEI')"
      ],
      "execution_count": 59,
      "outputs": [
        {
          "output_type": "stream",
          "text": [
            "Digite um nome:1\n",
            "Digite um nome:2\n",
            "Digite um nome:3\n",
            "Digite outro nome:2\n",
            "1 2\n",
            "2 2\n",
            "ACHEI\n"
          ],
          "name": "stdout"
        }
      ]
    },
    {
      "cell_type": "code",
      "metadata": {
        "id": "txMa_7_0hpaG"
      },
      "source": [
        "meses = ('Janeiro', 'Fevereiro', 'Março', 'Abril', 'Maio', 'Junho', 'Julho', 'Agosto', 'Setembro', 'Outubro', 'Novembro', 'Dezembro')\n",
        "while i in range(1,10):#len(meses)):\n",
        "    print(i)"
      ],
      "execution_count": 57,
      "outputs": []
    },
    {
      "cell_type": "code",
      "metadata": {
        "colab": {
          "base_uri": "https://localhost:8080/"
        },
        "id": "qrXHOkWbPIEF",
        "outputId": "92e23046-5643-4839-d0a0-180c670359be"
      },
      "source": [
        "meses = ('Janeiro', 'Fevereiro', 'Março', 'Abril', 'Maio', 'Junho', 'Julho', 'Agosto', 'Setembro', 'Outubro', 'Novembro', 'Dezembro')\n",
        "lista_temperaturas = list()\n",
        "\n",
        "for i in meses:\n",
        "    tempetarura = float(input(f'Digite a temperatura do mes {i}: '))\n",
        "    lista_temperaturas.append(tempetarura)\n",
        "\n",
        "print(f'A menor temperatura ocorreu no mês {meses[lista_temperaturas.index(min(lista_temperaturas))]} e foi {min(lista_temperaturas)}')\n",
        "print(f'A maior temperatura ocorreu no mês {meses[lista_temperaturas.index(max(lista_temperaturas))]} e foi {max(lista_temperaturas)}')"
      ],
      "execution_count": 24,
      "outputs": [
        {
          "output_type": "stream",
          "text": [
            "Digite a temperatura do mes Janeiro: 15\n",
            "Digite a temperatura do mes Fevereiro: 45\n",
            "Digite a temperatura do mes Março: 85\n",
            "Digite a temperatura do mes Abril: 45\n",
            "Digite a temperatura do mes Maio: 12\n",
            "Digite a temperatura do mes Junho: 25\n",
            "Digite a temperatura do mes Julho: 45\n",
            "Digite a temperatura do mes Agosto: 65\n",
            "Digite a temperatura do mes Setembro: 15\n",
            "Digite a temperatura do mes Outubro: 75\n",
            "Digite a temperatura do mes Novembro: 56\n",
            "Digite a temperatura do mes Dezembro: 15\n",
            "A menor temperatura ocorreu no mês Maio e foi 12.0\n",
            "A maior temperatura ocorreu no mês Março e foi 85.0\n"
          ],
          "name": "stdout"
        }
      ]
    },
    {
      "cell_type": "code",
      "metadata": {
        "colab": {
          "base_uri": "https://localhost:8080/"
        },
        "id": "9199yVRbXShK",
        "outputId": "c7d88af0-2b6f-4ffd-edd2-2792aeebef4a"
      },
      "source": [
        "valor = float(input('Digite o valor da poupança (R$): '))\n",
        "juros = float(input('Digite a taxa do juros (%): '))\n",
        "poupanca = valor\n",
        "for mes in range(1, 17):\n",
        "    poupanca = poupanca + poupanca*(juros/12/100)\n",
        "    print(f'{mes}º - R${poupanca:.2f}')\n",
        "print(f'No período teve um ganho de R${poupanca-valor:.2f}')"
      ],
      "execution_count": 41,
      "outputs": [
        {
          "output_type": "stream",
          "text": [
            "Digite o valor da poupança (R$): 1\n",
            "Digite a taxa do juros (%): 6\n",
            "1º - R$1.00\n",
            "2º - R$1.01\n",
            "3º - R$1.02\n",
            "4º - R$1.02\n",
            "5º - R$1.03\n",
            "6º - R$1.03\n",
            "7º - R$1.04\n",
            "8º - R$1.04\n",
            "9º - R$1.05\n",
            "10º - R$1.05\n",
            "11º - R$1.06\n",
            "12º - R$1.06\n",
            "13º - R$1.07\n",
            "14º - R$1.07\n",
            "15º - R$1.08\n",
            "16º - R$1.08\n",
            "No período teve um ganho de R$0.08\n"
          ],
          "name": "stdout"
        }
      ]
    },
    {
      "cell_type": "code",
      "metadata": {
        "colab": {
          "base_uri": "https://localhost:8080/"
        },
        "id": "ex3ET9tCYqKP",
        "outputId": "2755eef9-9c8f-4c2d-af50-8743dfb868bf"
      },
      "source": [
        "def calculo_area(a,b):\n",
        "    area_retangulo = a*b\n",
        "    return area_retangulo\n",
        "\n",
        "def calculo_perimetro(a,b):\n",
        "    perimetro_retangulo = a+b\n",
        "    return perimetro_retangulo\n",
        "\n",
        "\n",
        "a = float(input('Digite o 1º lado do retangulo: '))\n",
        "b = float(input('Digite o 2º lado do retangulo: '))\n",
        "\n",
        "area = calculo_area(a,b)\n",
        "perimetro = calculo_perimetro(a,b)\n",
        "\n",
        "print(f'O retangulo formado pelos lados {a} e {b} forma um retangulo com área igual a {area:.2f} e perímetro {perimetro:.2f}')"
      ],
      "execution_count": 43,
      "outputs": [
        {
          "output_type": "stream",
          "text": [
            "Digite o 1º lado do retangulo: 2\n",
            "Digite o 2º lado do retangulo: 4\n",
            "O retangulo formado pelos lados 2.0 e 4.0 forma um retangulo com área igual a 8.00 e perímetro 6.00\n"
          ],
          "name": "stdout"
        }
      ]
    }
  ]
}