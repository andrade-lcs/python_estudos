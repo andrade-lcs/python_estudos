{
  "nbformat": 4,
  "nbformat_minor": 0,
  "metadata": {
    "colab": {
      "name": "Calculo_média_idades.ipynb",
      "provenance": [],
      "authorship_tag": "ABX9TyPVnzLC529B+Pi1uFHQiYho"
    },
    "kernelspec": {
      "name": "python3",
      "display_name": "Python 3"
    },
    "language_info": {
      "name": "python"
    }
  },
  "cells": [
    {
      "cell_type": "code",
      "metadata": {
        "colab": {
          "base_uri": "https://localhost:8080/"
        },
        "id": "as9KwgdCquBa",
        "outputId": "6f57d761-34b0-4abe-e7fc-147e7c72b12c"
      },
      "source": [
        "contador = 0\n",
        "soma = 0\n",
        "idade = 1\n",
        "while idade != 0:\n",
        "    idade = int(input('Digite a idade ou zero para sair: '))\n",
        "    soma += idade\n",
        "    if idade != 0:\n",
        "        contador += 1\n",
        "    media = soma/c\n",
        "print(f'A média das idades é {media:.2f}.')"
      ],
      "execution_count": null,
      "outputs": [
        {
          "output_type": "stream",
          "text": [
            "Digite a idade: 60\n",
            "Digite a idade: 45\n",
            "Digite a idade: 2\n",
            "Digite a idade: 0\n",
            "A média das idades é 21.40.\n"
          ],
          "name": "stdout"
        }
      ]
    },
    {
      "cell_type": "code",
      "metadata": {
        "id": "QjHtNUKHrt-W",
        "colab": {
          "base_uri": "https://localhost:8080/"
        },
        "outputId": "14b68969-4a53-43b5-a992-fb5af14a09b4"
      },
      "source": [
        "contador_turmas = 1\n",
        "contador_alunos = 0\n",
        "soma\n",
        "turma = int(input('Digite a quantidade de turmas: '))\n",
        "while contador_turmas <= turma:\n",
        "    alunos = int(input(f'Digite o número de alunos da {contador_turmas}º turma: '))\n",
        "    contador_alunos = 0\n",
        "    soma = 0\n",
        "    while contador_alunos < alunos:\n",
        "        contador_alunos += 1\n",
        "        nota = float(input(f'Digite a noda do {contador_alunos}º aluno(a): '))\n",
        "        soma += nota\n",
        "    print(f'A média da {contador_turmas}º turma é {soma/contador_alunos:.2f}')\n",
        "    contador_turmas += 1\n",
        "print('Programa finalizado')"
      ],
      "execution_count": null,
      "outputs": [
        {
          "output_type": "stream",
          "text": [
            "Digite a quantidade de turmas: 3\n",
            "Digite o número de alunos da 1º turma: 1\n",
            "Digite a noda do 1º aluno(a): 10\n",
            "A média da 1º turma é 10.00\n",
            "Digite o número de alunos da 2º turma: 2\n",
            "Digite a noda do 1º aluno(a): 0\n",
            "Digite a noda do 2º aluno(a): 10\n",
            "A média da 2º turma é 5.00\n",
            "Digite o número de alunos da 3º turma: 3\n",
            "Digite a noda do 1º aluno(a): 5\n",
            "Digite a noda do 2º aluno(a): 10\n",
            "Digite a noda do 3º aluno(a): 0\n",
            "A média da 3º turma é 5.00\n",
            "Programa finalizado\n"
          ],
          "name": "stdout"
        }
      ]
    },
    {
      "cell_type": "code",
      "metadata": {
        "colab": {
          "base_uri": "https://localhost:8080/"
        },
        "id": "8d6QobuL2luw",
        "outputId": "99570b58-e1ab-4101-fc7e-13ff2cadba1a"
      },
      "source": [
        "def soma_intervalo(n1, n2):\n",
        "    soma = 0\n",
        "    for numero in range(n1+1, n2):\n",
        "        soma += numero\n",
        "    print(f'A soma do intervalo entre o {n1} e o {n2} é {soma}')\n",
        "\n",
        "n1 = int(input('Digite o primeiro número:'))\n",
        "n2 = int(input('Digite o segundo número:'))\n",
        "\n",
        "soma_intervalo(n1, n2)"
      ],
      "execution_count": 6,
      "outputs": [
        {
          "output_type": "stream",
          "text": [
            "Digite o primeiro número:5\n",
            "Digite o segundo número:10\n",
            "A soma do intervalo entre o 5 e o 10 é 30\n"
          ],
          "name": "stdout"
        }
      ]
    },
    {
      "cell_type": "code",
      "metadata": {
        "id": "FbiH2wsu3KLU"
      },
      "source": [
        ""
      ],
      "execution_count": null,
      "outputs": []
    }
  ]
}