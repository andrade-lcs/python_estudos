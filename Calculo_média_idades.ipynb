{
  "nbformat": 4,
  "nbformat_minor": 0,
  "metadata": {
    "colab": {
      "name": "Calculo_média_idades.ipynb",
      "provenance": [],
      "authorship_tag": "ABX9TyPV60fZcRbt1eZcOuAVZwYQ"
    },
    "kernelspec": {
      "name": "python3",
      "display_name": "Python 3"
    },
    "language_info": {
      "name": "python"
    }
  },
  "cells": [
    {
      "cell_type": "code",
      "metadata": {
        "colab": {
          "base_uri": "https://localhost:8080/"
        },
        "id": "as9KwgdCquBa",
        "outputId": "98a2ea95-c512-47a0-e64b-e53fa8ab458f"
      },
      "source": [
        "c = 0\n",
        "soma = 0\n",
        "idade = 1\n",
        "while idade != 0:\n",
        "    idade = int(input('Digite sua idade: '))\n",
        "    soma += idade\n",
        "    if idade != 0:\n",
        "        c += 1\n",
        "    media = soma/c\n",
        "print(media)"
      ],
      "execution_count": 8,
      "outputs": [
        {
          "output_type": "stream",
          "text": [
            "Digite sua idade: 10\n",
            "Digite sua idade: 30\n",
            "Digite sua idade: 0\n",
            "20.0\n"
          ],
          "name": "stdout"
        }
      ]
    },
    {
      "cell_type": "code",
      "metadata": {
        "id": "QjHtNUKHrt-W"
      },
      "source": [
        ""
      ],
      "execution_count": null,
      "outputs": []
    }
  ]
}