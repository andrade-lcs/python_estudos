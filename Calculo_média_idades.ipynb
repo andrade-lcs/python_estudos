{
  "nbformat": 4,
  "nbformat_minor": 0,
  "metadata": {
    "colab": {
      "name": "Calculo_média_idades.ipynb",
      "provenance": [],
      "authorship_tag": "ABX9TyNKcog98jA2Lv0UMwOxZreH"
    },
    "kernelspec": {
      "name": "python3",
      "display_name": "Python 3"
    },
    "language_info": {
      "name": "python"
    }
  },
  "cells": [
    {
      "cell_type": "code",
      "metadata": {
        "colab": {
          "base_uri": "https://localhost:8080/"
        },
        "id": "as9KwgdCquBa",
        "outputId": "6f57d761-34b0-4abe-e7fc-147e7c72b12c"
      },
      "source": [
        "contador = 0\n",
        "soma = 0\n",
        "idade = 1\n",
        "while idade != 0:\n",
        "    idade = int(input('Digite a idade ou zero para sair: '))\n",
        "    soma += idade\n",
        "    if idade != 0:\n",
        "        contador += 1\n",
        "    media = soma/c\n",
        "print(f'A média das idades é {media:.2f}.')"
      ],
      "execution_count": null,
      "outputs": [
        {
          "output_type": "stream",
          "text": [
            "Digite a idade: 60\n",
            "Digite a idade: 45\n",
            "Digite a idade: 2\n",
            "Digite a idade: 0\n",
            "A média das idades é 21.40.\n"
          ],
          "name": "stdout"
        }
      ]
    },
    {
      "cell_type": "code",
      "metadata": {
        "id": "QjHtNUKHrt-W",
        "colab": {
          "base_uri": "https://localhost:8080/"
        },
        "outputId": "14b68969-4a53-43b5-a992-fb5af14a09b4"
      },
      "source": [
        "contador_turmas = 1\n",
        "contador_alunos = 0\n",
        "soma\n",
        "turma = int(input('Digite a quantidade de turmas: '))\n",
        "while contador_turmas <= turma:\n",
        "    alunos = int(input(f'Digite o número de alunos da {contador_turmas}º turma: '))\n",
        "    contador_alunos = 0\n",
        "    soma = 0\n",
        "    while contador_alunos < alunos:\n",
        "        contador_alunos += 1\n",
        "        nota = float(input(f'Digite a noda do {contador_alunos}º aluno(a): '))\n",
        "        soma += nota\n",
        "    print(f'A média da {contador_turmas}º turma é {soma/contador_alunos:.2f}')\n",
        "    contador_turmas += 1\n",
        "print('Programa finalizado')"
      ],
      "execution_count": null,
      "outputs": [
        {
          "output_type": "stream",
          "text": [
            "Digite a quantidade de turmas: 3\n",
            "Digite o número de alunos da 1º turma: 1\n",
            "Digite a noda do 1º aluno(a): 10\n",
            "A média da 1º turma é 10.00\n",
            "Digite o número de alunos da 2º turma: 2\n",
            "Digite a noda do 1º aluno(a): 0\n",
            "Digite a noda do 2º aluno(a): 10\n",
            "A média da 2º turma é 5.00\n",
            "Digite o número de alunos da 3º turma: 3\n",
            "Digite a noda do 1º aluno(a): 5\n",
            "Digite a noda do 2º aluno(a): 10\n",
            "Digite a noda do 3º aluno(a): 0\n",
            "A média da 3º turma é 5.00\n",
            "Programa finalizado\n"
          ],
          "name": "stdout"
        }
      ]
    },
    {
      "cell_type": "code",
      "metadata": {
        "colab": {
          "base_uri": "https://localhost:8080/"
        },
        "id": "8d6QobuL2luw",
        "outputId": "99570b58-e1ab-4101-fc7e-13ff2cadba1a"
      },
      "source": [
        "def soma_intervalo(n1, n2):\n",
        "    soma = 0\n",
        "    for numero in range(n1+1, n2):\n",
        "        soma += numero\n",
        "    print(f'A soma do intervalo entre o {n1} e o {n2} é {soma}')\n",
        "\n",
        "n1 = int(input('Digite o primeiro número:'))\n",
        "n2 = int(input('Digite o segundo número:'))\n",
        "\n",
        "soma_intervalo(n1, n2)"
      ],
      "execution_count": null,
      "outputs": [
        {
          "output_type": "stream",
          "text": [
            "Digite o primeiro número:5\n",
            "Digite o segundo número:10\n",
            "A soma do intervalo entre o 5 e o 10 é 30\n"
          ],
          "name": "stdout"
        }
      ]
    },
    {
      "cell_type": "code",
      "metadata": {
        "id": "FbiH2wsu3KLU",
        "colab": {
          "base_uri": "https://localhost:8080/"
        },
        "outputId": "021daf52-3ab4-494f-ed99-5ba684b05385"
      },
      "source": [
        "def valor_pagamento(prestacao, dias_atraso):\n",
        "    if dias_atraso == 0:\n",
        "        valor = prestacao\n",
        "    else:\n",
        "        valor = prestacao + prestacao*0.03 + prestacao*dias_atraso*0.001\n",
        "    return (valor)\n",
        "\n",
        "prestacao = 1\n",
        "soma = 0\n",
        "contador = 0\n",
        "\n",
        "while prestacao != 0:\n",
        "    prestacao = float(input('Digite o valor da prestação: '))\n",
        "    if prestacao == 0:\n",
        "        break\n",
        "    dias_atraso = int(input('Digite quantos dias está atrasada: '))\n",
        "    valor = valor_pagamento(prestacao, dias_atraso)\n",
        "    print(f'O valor a ser pago é R${valor:.2f}')\n",
        "    soma += valor\n",
        "    contador += 1\n",
        "\n",
        "print('RELATÓRIO')\n",
        "print(f'Foram pagas {contador} prestações')\n",
        "print(f'Um total de R${soma:.2f}.')"
      ],
      "execution_count": null,
      "outputs": [
        {
          "output_type": "stream",
          "text": [
            "Digite o valor da prestação: 100\n",
            "Digite quantos dias está atrasada: 1\n",
            "O valor a ser pago é R$103.10\n",
            "Digite o valor da prestação: 200\n",
            "Digite quantos dias está atrasada: 2\n",
            "O valor a ser pago é R$206.40\n",
            "Digite o valor da prestação: 0\n",
            "RELATÓRIO\n",
            "Foram pagas 2 prestações\n",
            "Um total de R$309.50.\n"
          ],
          "name": "stdout"
        }
      ]
    },
    {
      "cell_type": "code",
      "metadata": {
        "colab": {
          "base_uri": "https://localhost:8080/"
        },
        "id": "M7lAjmqJ5T2g",
        "outputId": "15efc109-be92-4843-e67e-66754e8cbffd"
      },
      "source": [
        "contador = 0\n",
        "codigo= int(input(\" Digite o código de 4 números inteiros: \"))\n",
        "if (codigo == 1234):\n",
        "    while True:\n",
        "        senha=int(input(\" Digite a senha de 4 números inteiros: \"))\n",
        "        if senha == 9999:\n",
        "            print(\"Acesso permitido.\")\n",
        "            break\n",
        "        else:\n",
        "            print(\"senha incorreta!\")\n",
        "            contador += 1\n",
        "        if contador == 4:\n",
        "            print('Senha bloqueada contate o administrador')\n",
        "            break\n",
        "else:\n",
        "    print(\"código incorreto.\")"
      ],
      "execution_count": null,
      "outputs": [
        {
          "output_type": "stream",
          "text": [
            " Digite o código de 4 números inteiros: 1234\n",
            " Digite a senha de 4 números inteiros: 9999\n",
            "Acesso permitido.\n"
          ],
          "name": "stdout"
        }
      ]
    },
    {
      "cell_type": "code",
      "metadata": {
        "id": "mDa8N5NVL0fl",
        "colab": {
          "base_uri": "https://localhost:8080/"
        },
        "outputId": "9d4aa247-8ebd-4007-fd79-5ebf73370a17"
      },
      "source": [
        "lista_numeros = list()\n",
        "for contador in range(1, 31, 1):\n",
        "    numero = int(input('Digite um número: '))\n",
        "    lista_numeros.append(numero)\n",
        "\n",
        "def troca_positivo_negativo(lista_numeros):\n",
        "    lista_positivo_negativo = list()\n",
        "    for numero in lista_numeros:\n",
        "        if numero < 0:\n",
        "            lista_positivo_negativo.append(0)\n",
        "        else:\n",
        "            lista_positivo_negativo.append(1)\n",
        "    return lista4_positivo_negativo\n",
        "\n",
        "lista_numeros = troca_positivo_negativo(lista_numeros)\n",
        "print(lista_numeros)"
      ],
      "execution_count": null,
      "outputs": [
        {
          "output_type": "stream",
          "text": [
            "Digite um número: 5\n",
            "Digite um número: -1\n",
            "Digite um número: 8\n",
            "Digite um número: 4\n"
          ],
          "name": "stdout"
        },
        {
          "output_type": "execute_result",
          "data": {
            "text/plain": [
              "[1, 0, 1, 1]"
            ]
          },
          "metadata": {
            "tags": []
          },
          "execution_count": 8
        }
      ]
    },
    {
      "cell_type": "code",
      "metadata": {
        "colab": {
          "base_uri": "https://localhost:8080/"
        },
        "id": "ggSmy-DlrIQ-",
        "outputId": "c49aa2bb-be0b-4bd0-a89d-40da77dcdd0e"
      },
      "source": [
        "def listas_aleatorias():\n",
        "    lista_A = list()\n",
        "    lista_B = list()\n",
        "    while True:\n",
        "        numero = int(input('Digite um numero:'))\n",
        "        if numero == -1:\n",
        "            break\n",
        "        lista_A.append(numero)\n",
        "\n",
        "    while True:\n",
        "        numero = int(input('Digite um numero:'))\n",
        "        if numero == -1:\n",
        "            break\n",
        "        lista_B.append(numero)\n",
        "\n",
        "    print(f'O menor número da lista A {min(lista_A)}')\n",
        "    print(f'O maior número da lista A {max(lista_A)}')\n",
        "\n",
        "    print(f'O menor número da lista B {min(lista_B)}')\n",
        "    print(f'O maior número da lista B {min(lista_B)}')\n",
        "\n",
        "listas_aleatorias()"
      ],
      "execution_count": null,
      "outputs": [
        {
          "output_type": "stream",
          "text": [
            "Digite um numero:5\n",
            "Digite um numero:9\n",
            "Digite um numero:1\n",
            "Digite um numero:-1\n",
            "[5, 9, 1]\n",
            "O menor número da lista A 1\n",
            "O maior número da lista A 9\n"
          ],
          "name": "stdout"
        }
      ]
    },
    {
      "cell_type": "code",
      "metadata": {
        "colab": {
          "base_uri": "https://localhost:8080/"
        },
        "id": "KB3vfxUqzOD1",
        "outputId": "82958c63-9a55-4243-9668-59cdc0f43adc"
      },
      "source": [
        "list1 = [10, 12, 13, 0, 14]\n",
        "\n",
        "tmp = min(list1)\n",
        "index = list1.index(tmp)\n",
        "\n",
        "print(min(list1))"
      ],
      "execution_count": null,
      "outputs": [
        {
          "output_type": "stream",
          "text": [
            "0\n"
          ],
          "name": "stdout"
        }
      ]
    },
    {
      "cell_type": "code",
      "metadata": {
        "colab": {
          "base_uri": "https://localhost:8080/"
        },
        "id": "y3poU12f1DTb",
        "outputId": "350e5fba-3a59-4e78-fa49-e2271ec08841"
      },
      "source": [
        "def numero_leitura():\n",
        "    lista_numeros = []\n",
        "    soma = 0\n",
        "    for contador in range(1,11):\n",
        "        numero = int(input('Digite um número: '))\n",
        "        lista_numeros.append(numero)\n",
        "    for numero in lista_numeros:\n",
        "        soma += numero**2\n",
        "    return soma\n",
        "\n",
        "numero_leitura()"
      ],
      "execution_count": null,
      "outputs": [
        {
          "output_type": "stream",
          "text": [
            "Digite um número: 5\n",
            "Digite um número: 4\n",
            "Digite um número: 1\n"
          ],
          "name": "stdout"
        },
        {
          "output_type": "execute_result",
          "data": {
            "text/plain": [
              "42"
            ]
          },
          "metadata": {
            "tags": []
          },
          "execution_count": 35
        }
      ]
    },
    {
      "cell_type": "code",
      "metadata": {
        "colab": {
          "base_uri": "https://localhost:8080/"
        },
        "id": "uA29wyDODR-v",
        "outputId": "423682b5-eab4-45ca-eebb-6af97aac65d9"
      },
      "source": [
        "lista_numeros = []\n",
        "for contador in range(1,11):\n",
        "     numero = int(input('Digite um número: '))\n",
        "     lista_numeros.append(numero)\n",
        "\n",
        "def numero_leitura(lista_numeros):\n",
        "    soma = 0\n",
        "    for contador in range(0,11):\n",
        "        soma = soma + lista_numeros[contador]**2\n",
        "    return soma\n",
        "\n",
        "resultadoFinal = numero_leitura(lista_numeros)\n",
        "print(resultadoFinal)"
      ],
      "execution_count": null,
      "outputs": [
        {
          "output_type": "stream",
          "text": [
            "Digite um número: 1\n",
            "Digite um número: 2\n",
            "Digite um número: 3\n",
            "14\n"
          ],
          "name": "stdout"
        }
      ]
    },
    {
      "cell_type": "code",
      "metadata": {
        "colab": {
          "base_uri": "https://localhost:8080/"
        },
        "id": "qSdJqbVmEtHE",
        "outputId": "118e6050-8527-4098-e685-0017ed83eb2b"
      },
      "source": [
        "def numero_leitura():\n",
        "    lista_numeros = []\n",
        "    soma = 0\n",
        "    for contador in range(1,4):\n",
        "        numero = int(input('Digite um número: '))\n",
        "        lista_numeros.append(numero)\n",
        "        soma = soma + lista_numeros[contador-1]**2\n",
        "    return soma\n",
        "\n",
        "resultadoFinal = numero_leitura()\n",
        "print(resultadoFinal)"
      ],
      "execution_count": null,
      "outputs": [
        {
          "output_type": "stream",
          "text": [
            "Digite um número: 1\n",
            "Digite um número: 2\n",
            "Digite um número: 3\n",
            "14\n"
          ],
          "name": "stdout"
        }
      ]
    },
    {
      "cell_type": "code",
      "metadata": {
        "colab": {
          "base_uri": "https://localhost:8080/"
        },
        "id": "hpfLZtaSSLYc",
        "outputId": "ca04d020-f43c-4900-ad9e-fc48428457ba"
      },
      "source": [
        "def listas_intercaladas():\n",
        "    lista_1 = list()\n",
        "    lista_2 = list()\n",
        "    lista_3 = list()\n",
        "    for contador in range(1, 11, 1):\n",
        "        numero = int(input('Digite um numero para a lista 01:'))\n",
        "        lista_1.append(numero)\n",
        "\n",
        "    for contador in range(1, 11, 1):\n",
        "        numero = int(input('Digite um numero para a lista 02:'))\n",
        "        lista_2.append(numero)\n",
        "\n",
        "    for contador in range(0, 10, 1):\n",
        "        lista_3.append(lista_1[contador])\n",
        "        lista_3.append(lista_2[contador])\n",
        "\n",
        "    return lista_3\n",
        "\n",
        "listas_intercaladas()"
      ],
      "execution_count": null,
      "outputs": [
        {
          "output_type": "stream",
          "text": [
            "Digite um numero para a lista 01:1\n",
            "Digite um numero para a lista 01:2\n",
            "Digite um numero para a lista 01:3\n",
            "Digite um numero para a lista 02:10\n",
            "Digite um numero para a lista 02:20\n",
            "Digite um numero para a lista 02:30\n"
          ],
          "name": "stdout"
        },
        {
          "output_type": "execute_result",
          "data": {
            "text/plain": [
              "[1, 10, 2, 20, 3, 30]"
            ]
          },
          "metadata": {
            "tags": []
          },
          "execution_count": 51
        }
      ]
    },
    {
      "cell_type": "code",
      "metadata": {
        "colab": {
          "base_uri": "https://localhost:8080/"
        },
        "id": "x59sU0O40v9c",
        "outputId": "14257315-e413-4b5d-90e1-2c8ac162c11e"
      },
      "source": [
        "cliente = 0\n",
        "\n",
        "while cliente <= 5:\n",
        "    nome = input('digite o nome do cliente: ')\n",
        "    valorCompra = float(input('digite o valor da compra do cliente em R$: '))\n",
        "\n",
        "    if valorCompra < 1000:\n",
        "        valorBonus = (valorCompra*0.10)\n",
        "        print(f' Valor do Bônus é de : R${valorBonus:.2f} reais.')\n",
        "    else:\n",
        "        valorBonus = (valorCompra*0.15)\n",
        "        print(f' Valor do Bônus é da comrpa de {nome} é : R${valorBonus:.2f} reais.')\n",
        "\n",
        "    cliente = cliente + 1\n"
      ],
      "execution_count": null,
      "outputs": [
        {
          "output_type": "stream",
          "text": [
            "digite o nome do cliente: Lucas\n",
            "digite o valor da compra do cliente em R$: 900\n",
            " Valor do Bônus é de : R$90.00 reais.\n",
            "digite o nome do cliente: João\n",
            "digite o valor da compra do cliente em R$: 1015\n",
            " Valor do Bônus é da comrpa de João é : R$152.25 reais.\n",
            "digite o nome do cliente: carlos\n",
            "digite o valor da compra do cliente em R$: 58\n",
            " Valor do Bônus é de : R$5.80 reais.\n",
            "digite o nome do cliente: Paulo\n",
            "digite o valor da compra do cliente em R$: 4586\n",
            " Valor do Bônus é da comrpa de Paulo é : R$687.90 reais.\n",
            "digite o nome do cliente: Bruna\n",
            "digite o valor da compra do cliente em R$: 658\n",
            " Valor do Bônus é de : R$65.80 reais.\n",
            "digite o nome do cliente: hhh\n",
            "digite o valor da compra do cliente em R$: 0587\n",
            " Valor do Bônus é de : R$58.70 reais.\n"
          ],
          "name": "stdout"
        }
      ]
    },
    {
      "cell_type": "code",
      "metadata": {
        "colab": {
          "base_uri": "https://localhost:8080/"
        },
        "id": "Ug82m9BT2aWX",
        "outputId": "5cbea0a8-1545-4efe-a3cf-9f3b5eeedd1e"
      },
      "source": [
        "clientes = list()\n",
        "compras = list()\n",
        "cliente = 0\n",
        "\n",
        "def cadastracliente(clientes, compras):\n",
        "    nome = input('digite o nome do cliente: ')\n",
        "    valorCompra = float(input('digite o valor da compra do cliente em R$: '))\n",
        "    clientes.append(f'{nome}')\n",
        "    compras.append(valorCompra)\n",
        "    return clientes, compras\n",
        "\n",
        "while True:\n",
        "    cadastracliente(clientes, compras)\n",
        "    verificacao = input('Deseja cadastrar outro cliente, digete \"S\" para Sim ou \"N\" para Não: ').strip().upper()\n",
        "    if verificacao == 'N':\n",
        "        break\n",
        "\n",
        "while cliente < len(clientes):\n",
        "    nome = clientes[cliente]\n",
        "    valorCompra = compras[cliente]\n",
        "    if valorCompra < 1000:\n",
        "        valorBonus = (valorCompra*0.10)\n",
        "    else:\n",
        "        valorBonus = (valorCompra*0.15)\n",
        "    print(f' Valor do Bônus do {nome} é de: R${valorBonus:.2f} reais.')\n",
        "    cliente += 1\n",
        "    if cliente == 14:\n",
        "        break"
      ],
      "execution_count": null,
      "outputs": [
        {
          "output_type": "stream",
          "text": [
            "digite o nome do cliente: Lucas\n",
            "digite o valor da compra do cliente em R$: 580\n",
            "Deseja cadastrar outro cliente, digete \"S\" para Sim ou \"N\" para Não: s\n",
            "digite o nome do cliente: Bruna\n",
            "digite o valor da compra do cliente em R$: 4587\n",
            "Deseja cadastrar outro cliente, digete \"S\" para Sim ou \"N\" para Não: n\n",
            "2 2\n",
            " Valor do Bônus é de : R$58.00 reais.\n",
            " Valor do Bônus é da comrpa de Bruna é : R$688.05 reais.\n"
          ],
          "name": "stdout"
        }
      ]
    },
    {
      "cell_type": "code",
      "metadata": {
        "colab": {
          "base_uri": "https://localhost:8080/"
        },
        "id": "1mqxTBXxQvLQ",
        "outputId": "e31d1d6d-ff47-4c51-f1c6-770ae13befb1"
      },
      "source": [
        "vetor = list()\n",
        "vetor_par = list()\n",
        "vetor_impar = list()\n",
        "\n",
        "for contador in range (0, 10, 1):\n",
        "    numero = int(input('Digite um número: '))\n",
        "    vetor.append(numero)\n",
        "\n",
        "for numero in vetor:\n",
        "    if numero % 2 == 0:\n",
        "        vetor_par.append(numero)\n",
        "    else:\n",
        "        vetor_impar.append(numero)\n",
        "\n",
        "print(vetor_par)\n",
        "print(vetor_impar)"
      ],
      "execution_count": null,
      "outputs": [
        {
          "output_type": "stream",
          "text": [
            "Digite um número: 1\n",
            "Digite um número: 2\n",
            "Digite um número: 3\n",
            "Digite um número: 4\n",
            "Digite um número: 5\n",
            "Digite um número: 6\n",
            "Digite um número: 7\n",
            "Digite um número: 8\n",
            "Digite um número: 9\n",
            "[2, 4, 6, 8]\n",
            "[1, 3, 5, 7, 9]\n"
          ],
          "name": "stdout"
        }
      ]
    },
    {
      "cell_type": "code",
      "metadata": {
        "id": "utOQzQTYRoxQ",
        "colab": {
          "base_uri": "https://localhost:8080/"
        },
        "outputId": "0f2ca975-d524-47fd-ea34-ddcdbb27f059"
      },
      "source": [
        "vetor = [25, 48, 57]\n",
        "\n",
        "for i in range(0, len(vetor)):\n",
        "    numero = vetor[i]*2\n",
        "    vetor[i] = numero\n",
        "\n",
        "print(vetor)"
      ],
      "execution_count": 4,
      "outputs": [
        {
          "output_type": "stream",
          "text": [
            "[50, 96, 114]\n"
          ],
          "name": "stdout"
        }
      ]
    },
    {
      "cell_type": "code",
      "metadata": {
        "id": "qsYczfuStFyY"
      },
      "source": [
        ""
      ],
      "execution_count": null,
      "outputs": []
    }
  ]
}