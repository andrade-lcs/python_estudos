{
  "nbformat": 4,
  "nbformat_minor": 0,
  "metadata": {
    "colab": {
      "name": "Calculo_média_idades.ipynb",
      "provenance": [],
      "authorship_tag": "ABX9TyMybbvrweNXgdhpPYv6/YV9"
    },
    "kernelspec": {
      "name": "python3",
      "display_name": "Python 3"
    },
    "language_info": {
      "name": "python"
    }
  },
  "cells": [
    {
      "cell_type": "code",
      "metadata": {
        "colab": {
          "base_uri": "https://localhost:8080/"
        },
        "id": "as9KwgdCquBa",
        "outputId": "6f57d761-34b0-4abe-e7fc-147e7c72b12c"
      },
      "source": [
        "contador = 0\n",
        "soma = 0\n",
        "idade = 1\n",
        "while idade != 0:\n",
        "    idade = int(input('Digite a idade ou zero para sair: '))\n",
        "    soma += idade\n",
        "    if idade != 0:\n",
        "        contador += 1\n",
        "    media = soma/c\n",
        "print(f'A média das idades é {media:.2f}.')"
      ],
      "execution_count": null,
      "outputs": [
        {
          "output_type": "stream",
          "text": [
            "Digite a idade: 60\n",
            "Digite a idade: 45\n",
            "Digite a idade: 2\n",
            "Digite a idade: 0\n",
            "A média das idades é 21.40.\n"
          ],
          "name": "stdout"
        }
      ]
    },
    {
      "cell_type": "code",
      "metadata": {
        "id": "QjHtNUKHrt-W",
        "colab": {
          "base_uri": "https://localhost:8080/"
        },
        "outputId": "14b68969-4a53-43b5-a992-fb5af14a09b4"
      },
      "source": [
        "contador_turmas = 1\n",
        "contador_alunos = 0\n",
        "soma\n",
        "turma = int(input('Digite a quantidade de turmas: '))\n",
        "while contador_turmas <= turma:\n",
        "    alunos = int(input(f'Digite o número de alunos da {contador_turmas}º turma: '))\n",
        "    contador_alunos = 0\n",
        "    soma = 0\n",
        "    while contador_alunos < alunos:\n",
        "        contador_alunos += 1\n",
        "        nota = float(input(f'Digite a noda do {contador_alunos}º aluno(a): '))\n",
        "        soma += nota\n",
        "    print(f'A média da {contador_turmas}º turma é {soma/contador_alunos:.2f}')\n",
        "    contador_turmas += 1\n",
        "print('Programa finalizado')"
      ],
      "execution_count": null,
      "outputs": [
        {
          "output_type": "stream",
          "text": [
            "Digite a quantidade de turmas: 3\n",
            "Digite o número de alunos da 1º turma: 1\n",
            "Digite a noda do 1º aluno(a): 10\n",
            "A média da 1º turma é 10.00\n",
            "Digite o número de alunos da 2º turma: 2\n",
            "Digite a noda do 1º aluno(a): 0\n",
            "Digite a noda do 2º aluno(a): 10\n",
            "A média da 2º turma é 5.00\n",
            "Digite o número de alunos da 3º turma: 3\n",
            "Digite a noda do 1º aluno(a): 5\n",
            "Digite a noda do 2º aluno(a): 10\n",
            "Digite a noda do 3º aluno(a): 0\n",
            "A média da 3º turma é 5.00\n",
            "Programa finalizado\n"
          ],
          "name": "stdout"
        }
      ]
    },
    {
      "cell_type": "code",
      "metadata": {
        "colab": {
          "base_uri": "https://localhost:8080/"
        },
        "id": "8d6QobuL2luw",
        "outputId": "99570b58-e1ab-4101-fc7e-13ff2cadba1a"
      },
      "source": [
        "def soma_intervalo(n1, n2):\n",
        "    soma = 0\n",
        "    for numero in range(n1+1, n2):\n",
        "        soma += numero\n",
        "    print(f'A soma do intervalo entre o {n1} e o {n2} é {soma}')\n",
        "\n",
        "n1 = int(input('Digite o primeiro número:'))\n",
        "n2 = int(input('Digite o segundo número:'))\n",
        "\n",
        "soma_intervalo(n1, n2)"
      ],
      "execution_count": null,
      "outputs": [
        {
          "output_type": "stream",
          "text": [
            "Digite o primeiro número:5\n",
            "Digite o segundo número:10\n",
            "A soma do intervalo entre o 5 e o 10 é 30\n"
          ],
          "name": "stdout"
        }
      ]
    },
    {
      "cell_type": "code",
      "metadata": {
        "id": "FbiH2wsu3KLU",
        "colab": {
          "base_uri": "https://localhost:8080/"
        },
        "outputId": "021daf52-3ab4-494f-ed99-5ba684b05385"
      },
      "source": [
        "def valor_pagamento(prestacao, dias_atraso):\n",
        "    if dias_atraso == 0:\n",
        "        valor = prestacao\n",
        "    else:\n",
        "        valor = prestacao + prestacao*0.03 + prestacao*dias_atraso*0.001\n",
        "    return (valor)\n",
        "\n",
        "prestacao = 1\n",
        "soma = 0\n",
        "contador = 0\n",
        "\n",
        "while prestacao != 0:\n",
        "    prestacao = float(input('Digite o valor da prestação: '))\n",
        "    if prestacao == 0:\n",
        "        break\n",
        "    dias_atraso = int(input('Digite quantos dias está atrasada: '))\n",
        "    valor = valor_pagamento(prestacao, dias_atraso)\n",
        "    print(f'O valor a ser pago é R${valor:.2f}')\n",
        "    soma += valor\n",
        "    contador += 1\n",
        "\n",
        "print('RELATÓRIO')\n",
        "print(f'Foram pagas {contador} prestações')\n",
        "print(f'Um total de R${soma:.2f}.')"
      ],
      "execution_count": 7,
      "outputs": [
        {
          "output_type": "stream",
          "text": [
            "Digite o valor da prestação: 100\n",
            "Digite quantos dias está atrasada: 1\n",
            "O valor a ser pago é R$103.10\n",
            "Digite o valor da prestação: 200\n",
            "Digite quantos dias está atrasada: 2\n",
            "O valor a ser pago é R$206.40\n",
            "Digite o valor da prestação: 0\n",
            "RELATÓRIO\n",
            "Foram pagas 2 prestações\n",
            "Um total de R$309.50.\n"
          ],
          "name": "stdout"
        }
      ]
    },
    {
      "cell_type": "code",
      "metadata": {
        "colab": {
          "base_uri": "https://localhost:8080/"
        },
        "id": "M7lAjmqJ5T2g",
        "outputId": "15efc109-be92-4843-e67e-66754e8cbffd"
      },
      "source": [
        "contador = 0\n",
        "codigo= int(input(\" Digite o código de 4 números inteiros: \"))\n",
        "if (codigo == 1234):\n",
        "    while True:\n",
        "        senha=int(input(\" Digite a senha de 4 números inteiros: \"))\n",
        "        if senha == 9999:\n",
        "            print(\"Acesso permitido.\")\n",
        "            break\n",
        "        else:\n",
        "            print(\"senha incorreta!\")\n",
        "            contador += 1\n",
        "        if contador == 4:\n",
        "            print('Senha bloqueada contate o administrador')\n",
        "            break\n",
        "else:\n",
        "    print(\"código incorreto.\")"
      ],
      "execution_count": 19,
      "outputs": [
        {
          "output_type": "stream",
          "text": [
            " Digite o código de 4 números inteiros: 1234\n",
            " Digite a senha de 4 números inteiros: 9999\n",
            "Acesso permitido.\n"
          ],
          "name": "stdout"
        }
      ]
    },
    {
      "cell_type": "code",
      "metadata": {
        "id": "mDa8N5NVL0fl"
      },
      "source": [
        ""
      ],
      "execution_count": null,
      "outputs": []
    }
  ]
}